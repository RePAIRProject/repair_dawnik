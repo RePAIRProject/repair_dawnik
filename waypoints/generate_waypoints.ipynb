{
 "cells": [
  {
   "cell_type": "code",
   "execution_count": null,
   "metadata": {},
   "outputs": [],
   "source": [
    "import numpy as np\n",
    "import matplotlib.pyplot as plt\n",
    "import csv"
   ]
  },
  {
   "cell_type": "markdown",
   "metadata": {},
   "source": [
    "# Draw Circle"
   ]
  },
  {
   "cell_type": "code",
   "execution_count": 25,
   "metadata": {},
   "outputs": [],
   "source": [
    "# params\n",
    "roll,pitch,yaw = 0, 1.570796327, 0\n",
    "c_x, c_y, c_z, c_r = 0.2, 0.0, 0.25, 0.2\n",
    "header = \"# timestamp x y z roll pitch yaw\"\n",
    "num_points = 1000\n",
    "max_time = 20.0\n",
    "filename = \"circle_yz.txt\"\n",
    "\n",
    "x = []\n",
    "y = []\n",
    "z = []\n",
    "for theta in np.linspace(0, -np.pi*2, num_points):\n",
    "    x.append(c_x)\n",
    "    y.append(c_r*np.sin(theta) + c_y)\n",
    "    z.append(c_r*np.cos(theta) + c_z)\n",
    "\n",
    "roll = np.repeat(roll, num_points)\n",
    "pitch = np.repeat(pitch, num_points)\n",
    "yaw = np.repeat(yaw, num_points)\n",
    "t = np.linspace(0, max_time, num_points)\n",
    "output = np.stack([t,x,y,z,roll,pitch,yaw])\n",
    "\n",
    "with open(\"mick/\" + filename, 'w', encoding='UTF8', newline='') as f:\n",
    "    f.write(header + \"\\n\")\n",
    "    writer = csv.writer(f, delimiter =' ')\n",
    "    writer.writerows(output.T)\n",
    "\n",
    "with open(\"lite6/\" + filename, 'w', encoding='UTF8', newline='') as f:\n",
    "    f.write(header + \"\\n\")\n",
    "    writer = csv.writer(f, delimiter =' ')\n",
    "    writer.writerows(output.T)"
   ]
  },
  {
   "cell_type": "code",
   "execution_count": 30,
   "metadata": {},
   "outputs": [],
   "source": [
    "# params\n",
    "roll,pitch,yaw = 0, -np.pi, 0\n",
    "c_x, c_y, c_z, c_r = 0.25, 0.0, 0.25, 0.18\n",
    "header = \"# timestamp x y z roll pitch yaw\"\n",
    "num_points = 1000\n",
    "max_time = 20.0\n",
    "filename = \"circle_xy.txt\"\n",
    "\n",
    "x = []\n",
    "y = []\n",
    "z = []\n",
    "for theta in np.linspace(0, -np.pi*2, num_points):\n",
    "    x.append(c_r*np.sin(theta) + c_x)\n",
    "    y.append(c_r*np.cos(theta) + c_y)\n",
    "    z.append(c_z)\n",
    "\n",
    "roll = np.repeat(roll, num_points)\n",
    "pitch = np.repeat(pitch, num_points)\n",
    "yaw = np.repeat(yaw, num_points)\n",
    "t = np.linspace(0, max_time, num_points)\n",
    "output = np.stack([t,x,y,z,roll,pitch,yaw])\n",
    "\n",
    "with open(\"mick/\" + filename, 'w', encoding='UTF8', newline='') as f:\n",
    "    f.write(header + \"\\n\")\n",
    "    writer = csv.writer(f, delimiter =' ')\n",
    "    writer.writerows(output.T)\n",
    "\n",
    "with open(\"lite6/\" + filename, 'w', encoding='UTF8', newline='') as f:\n",
    "    f.write(header + \"\\n\")\n",
    "    writer = csv.writer(f, delimiter =' ')\n",
    "    writer.writerows(output.T)"
   ]
  },
  {
   "cell_type": "code",
   "execution_count": null,
   "metadata": {},
   "outputs": [],
   "source": []
  }
 ],
 "metadata": {
  "kernelspec": {
   "display_name": "Python 3",
   "language": "python",
   "name": "python3"
  },
  "language_info": {
   "codemirror_mode": {
    "name": "ipython",
    "version": 3
   },
   "file_extension": ".py",
   "mimetype": "text/x-python",
   "name": "python",
   "nbconvert_exporter": "python",
   "pygments_lexer": "ipython3",
   "version": "3.8.10"
  },
  "orig_nbformat": 4
 },
 "nbformat": 4,
 "nbformat_minor": 2
}
